{
 "cells": [
  {
   "cell_type": "code",
   "execution_count": 167,
   "metadata": {},
   "outputs": [
    {
     "name": "stdout",
     "output_type": "stream",
     "text": [
      "20000\n",
      "40000\n",
      "60000\n",
      "80000\n",
      "100000\n",
      "120000\n",
      "140000\n",
      "160000\n",
      "180000\n",
      "200000\n",
      "220000\n",
      "240000\n",
      "260000\n",
      "280000\n",
      "300000\n",
      "320000\n",
      "340000\n",
      "360000\n",
      "380000\n",
      "400000\n",
      "420000\n",
      "440000\n",
      "460000\n",
      "480000\n",
      "500000\n",
      "520000\n",
      "540000\n",
      "560000\n",
      "580000\n",
      "600000\n",
      "620000\n",
      "640000\n"
     ]
    }
   ],
   "source": [
    "import os\n",
    "import json\n",
    "import pandas as pd\n",
    "\n",
    "\n",
    "json_list = open('geotagged_tweets_20160812-0912.jsons', \"r\")\n",
    "counter = 0\n",
    "df_def = pd.DataFrame()\n",
    "tweet_info = dict()\n",
    "lines = []\n",
    "\n",
    "for line in json_list:\n",
    "    try:\n",
    "        obj = json.loads(line)\n",
    "        text = obj['text']\n",
    "        tweet_id = obj['id']\n",
    "\n",
    "        created_at = obj['created_at']\n",
    "        place = obj['place']['full_name']\n",
    "        country = obj['place']['country']\n",
    "        coordinates = obj['place']['bounding_box']['coordinates']\n",
    "        for i in coordinates:\n",
    "            for coordinate in i:\n",
    "                xcoordinate = coordinate[0]\n",
    "                ycoordinate = coordinate[1]\n",
    "\n",
    "        counter += 1\n",
    "        tweet_info[tweet_id] = [text, created_at, place, country,\n",
    "                                    xcoordinate, ycoordinate]\n",
    "    except:\n",
    "        continue\n",
    "    if counter%20000 == 0:\n",
    "        print(counter)"
   ]
  },
  {
   "cell_type": "code",
   "execution_count": 453,
   "metadata": {},
   "outputs": [],
   "source": [
    "tweets = pd.DataFrame.from_dict(tweet_info, orient='index', columns=['text',\n",
    "                                                                 'created_at', 'place', 'country',\n",
    "                                    'xcoordinate', 'ycoordinate'])"
   ]
  },
  {
   "cell_type": "code",
   "execution_count": null,
   "metadata": {},
   "outputs": [],
   "source": []
  },
  {
   "cell_type": "code",
   "execution_count": 454,
   "metadata": {},
   "outputs": [
    {
     "data": {
      "text/html": [
       "<div>\n",
       "<style scoped>\n",
       "    .dataframe tbody tr th:only-of-type {\n",
       "        vertical-align: middle;\n",
       "    }\n",
       "\n",
       "    .dataframe tbody tr th {\n",
       "        vertical-align: top;\n",
       "    }\n",
       "\n",
       "    .dataframe thead th {\n",
       "        text-align: right;\n",
       "    }\n",
       "</style>\n",
       "<table border=\"1\" class=\"dataframe\">\n",
       "  <thead>\n",
       "    <tr style=\"text-align: right;\">\n",
       "      <th></th>\n",
       "      <th>text</th>\n",
       "      <th>created_at</th>\n",
       "      <th>place</th>\n",
       "      <th>country</th>\n",
       "      <th>xcoordinate</th>\n",
       "      <th>ycoordinate</th>\n",
       "    </tr>\n",
       "  </thead>\n",
       "  <tbody>\n",
       "    <tr>\n",
       "      <th>764039724818272256</th>\n",
       "      <td>@theblaze @realDonaldTrump https://t.co/TY9DlZ...</td>\n",
       "      <td>Fri Aug 12 10:04:00 +0000 2016</td>\n",
       "      <td>Frontenac, MO</td>\n",
       "      <td>United States</td>\n",
       "      <td>-90.405462</td>\n",
       "      <td>38.606163</td>\n",
       "    </tr>\n",
       "    <tr>\n",
       "      <th>764039733076897792</th>\n",
       "      <td>@BarackObama \\n@FBI\\n@LORETTALYNCH \\nALL IN CO...</td>\n",
       "      <td>Fri Aug 12 10:04:02 +0000 2016</td>\n",
       "      <td>Baton Rouge, LA</td>\n",
       "      <td>United States</td>\n",
       "      <td>-90.962605</td>\n",
       "      <td>30.354161</td>\n",
       "    </tr>\n",
       "    <tr>\n",
       "      <th>764039769244348417</th>\n",
       "      <td>@theblaze @realDonaldTrump https://t.co/n050DB...</td>\n",
       "      <td>Fri Aug 12 10:04:10 +0000 2016</td>\n",
       "      <td>Frontenac, MO</td>\n",
       "      <td>United States</td>\n",
       "      <td>-90.405462</td>\n",
       "      <td>38.606163</td>\n",
       "    </tr>\n",
       "    <tr>\n",
       "      <th>764039849850482689</th>\n",
       "      <td>#CNN #newday clear #Trump deliberately throwin...</td>\n",
       "      <td>Fri Aug 12 10:04:30 +0000 2016</td>\n",
       "      <td>Baltimore, MD</td>\n",
       "      <td>United States</td>\n",
       "      <td>-76.529443</td>\n",
       "      <td>39.197211</td>\n",
       "    </tr>\n",
       "    <tr>\n",
       "      <th>764039917924069376</th>\n",
       "      <td>@realDonaldTrump, you wouldn't recognize a lie...</td>\n",
       "      <td>Fri Aug 12 10:04:46 +0000 2016</td>\n",
       "      <td>Palm Springs, CA</td>\n",
       "      <td>United States</td>\n",
       "      <td>-116.466791</td>\n",
       "      <td>33.779426</td>\n",
       "    </tr>\n",
       "  </tbody>\n",
       "</table>\n",
       "</div>"
      ],
      "text/plain": [
       "                                                                 text  \\\n",
       "764039724818272256  @theblaze @realDonaldTrump https://t.co/TY9DlZ...   \n",
       "764039733076897792  @BarackObama \\n@FBI\\n@LORETTALYNCH \\nALL IN CO...   \n",
       "764039769244348417  @theblaze @realDonaldTrump https://t.co/n050DB...   \n",
       "764039849850482689  #CNN #newday clear #Trump deliberately throwin...   \n",
       "764039917924069376  @realDonaldTrump, you wouldn't recognize a lie...   \n",
       "\n",
       "                                        created_at             place  \\\n",
       "764039724818272256  Fri Aug 12 10:04:00 +0000 2016     Frontenac, MO   \n",
       "764039733076897792  Fri Aug 12 10:04:02 +0000 2016   Baton Rouge, LA   \n",
       "764039769244348417  Fri Aug 12 10:04:10 +0000 2016     Frontenac, MO   \n",
       "764039849850482689  Fri Aug 12 10:04:30 +0000 2016     Baltimore, MD   \n",
       "764039917924069376  Fri Aug 12 10:04:46 +0000 2016  Palm Springs, CA   \n",
       "\n",
       "                          country  xcoordinate  ycoordinate  \n",
       "764039724818272256  United States   -90.405462    38.606163  \n",
       "764039733076897792  United States   -90.962605    30.354161  \n",
       "764039769244348417  United States   -90.405462    38.606163  \n",
       "764039849850482689  United States   -76.529443    39.197211  \n",
       "764039917924069376  United States  -116.466791    33.779426  "
      ]
     },
     "execution_count": 454,
     "metadata": {},
     "output_type": "execute_result"
    }
   ],
   "source": [
    "tweets_USA = tweets_data[tweets_data['country'] == 'United States']\n",
    "tweets_USA.head()"
   ]
  },
  {
   "cell_type": "code",
   "execution_count": 458,
   "metadata": {},
   "outputs": [
    {
     "data": {
      "text/plain": [
       "125311"
      ]
     },
     "execution_count": 458,
     "metadata": {},
     "output_type": "execute_result"
    }
   ],
   "source": [
    "swinged_states = 'FL|PA|MI|OH|WI|IA|Penn|Florida|Michigan|Ohio|Wisconsin|Iowa' \n",
    "tweets_SS = tweets_data_USA[tweets_data_USA['place'].str.contains(swinged_states)]\n",
    "\n",
    "len(tweets_SS)"
   ]
  },
  {
   "cell_type": "code",
   "execution_count": 460,
   "metadata": {},
   "outputs": [
    {
     "name": "stderr",
     "output_type": "stream",
     "text": [
      "/Users/d/anaconda3/lib/python3.7/site-packages/ipykernel_launcher.py:13: SettingWithCopyWarning: \n",
      "A value is trying to be set on a copy of a slice from a DataFrame.\n",
      "Try using .loc[row_indexer,col_indexer] = value instead\n",
      "\n",
      "See the caveats in the documentation: http://pandas.pydata.org/pandas-docs/stable/indexing.html#indexing-view-versus-copy\n",
      "  del sys.path[0]\n"
     ]
    },
    {
     "data": {
      "text/html": [
       "<div>\n",
       "<style scoped>\n",
       "    .dataframe tbody tr th:only-of-type {\n",
       "        vertical-align: middle;\n",
       "    }\n",
       "\n",
       "    .dataframe tbody tr th {\n",
       "        vertical-align: top;\n",
       "    }\n",
       "\n",
       "    .dataframe thead th {\n",
       "        text-align: right;\n",
       "    }\n",
       "</style>\n",
       "<table border=\"1\" class=\"dataframe\">\n",
       "  <thead>\n",
       "    <tr style=\"text-align: right;\">\n",
       "      <th></th>\n",
       "      <th>text</th>\n",
       "      <th>created_at</th>\n",
       "      <th>place</th>\n",
       "      <th>country</th>\n",
       "      <th>xcoordinate</th>\n",
       "      <th>ycoordinate</th>\n",
       "      <th>link</th>\n",
       "    </tr>\n",
       "  </thead>\n",
       "  <tbody>\n",
       "    <tr>\n",
       "      <th>764039975583227904</th>\n",
       "      <td>@realDonaldTrump @elsolarverde What issues? Yo...</td>\n",
       "      <td>Fri Aug 12 10:05:00 +0000 2016</td>\n",
       "      <td>Battle Creek, MI</td>\n",
       "      <td>United States</td>\n",
       "      <td>-85.140797</td>\n",
       "      <td>42.232049</td>\n",
       "      <td>None</td>\n",
       "    </tr>\n",
       "    <tr>\n",
       "      <th>764040054427619328</th>\n",
       "      <td>@CribBoss @WesSmith123 @realDonaldTrump why is...</td>\n",
       "      <td>Fri Aug 12 10:05:18 +0000 2016</td>\n",
       "      <td>Davenport, IA</td>\n",
       "      <td>United States</td>\n",
       "      <td>-90.502744</td>\n",
       "      <td>41.475836</td>\n",
       "      <td>None</td>\n",
       "    </tr>\n",
       "    <tr>\n",
       "      <th>764040268794384388</th>\n",
       "      <td>@sherrilee7 @seanhannity @HillaryClinton #Hann...</td>\n",
       "      <td>Fri Aug 12 10:06:09 +0000 2016</td>\n",
       "      <td>Gainesville, FL</td>\n",
       "      <td>United States</td>\n",
       "      <td>-82.239066</td>\n",
       "      <td>29.600496</td>\n",
       "      <td>None</td>\n",
       "    </tr>\n",
       "    <tr>\n",
       "      <th>764040661448491008</th>\n",
       "      <td>#morningjoe Have to wonder about the mentality...</td>\n",
       "      <td>Fri Aug 12 10:07:43 +0000 2016</td>\n",
       "      <td>Pennsylvania, USA</td>\n",
       "      <td>United States</td>\n",
       "      <td>-74.689517</td>\n",
       "      <td>39.719801</td>\n",
       "      <td>None</td>\n",
       "    </tr>\n",
       "    <tr>\n",
       "      <th>764040676354908161</th>\n",
       "      <td>I don't hate Democrats. I hate the evil ideolo...</td>\n",
       "      <td>Fri Aug 12 10:07:47 +0000 2016</td>\n",
       "      <td>Port St Lucie, FL</td>\n",
       "      <td>United States</td>\n",
       "      <td>-80.233079</td>\n",
       "      <td>27.205690</td>\n",
       "      <td>https://t.co/eR6GLDhj1M</td>\n",
       "    </tr>\n",
       "  </tbody>\n",
       "</table>\n",
       "</div>"
      ],
      "text/plain": [
       "                                                                 text  \\\n",
       "764039975583227904  @realDonaldTrump @elsolarverde What issues? Yo...   \n",
       "764040054427619328  @CribBoss @WesSmith123 @realDonaldTrump why is...   \n",
       "764040268794384388  @sherrilee7 @seanhannity @HillaryClinton #Hann...   \n",
       "764040661448491008  #morningjoe Have to wonder about the mentality...   \n",
       "764040676354908161  I don't hate Democrats. I hate the evil ideolo...   \n",
       "\n",
       "                                        created_at              place  \\\n",
       "764039975583227904  Fri Aug 12 10:05:00 +0000 2016   Battle Creek, MI   \n",
       "764040054427619328  Fri Aug 12 10:05:18 +0000 2016      Davenport, IA   \n",
       "764040268794384388  Fri Aug 12 10:06:09 +0000 2016    Gainesville, FL   \n",
       "764040661448491008  Fri Aug 12 10:07:43 +0000 2016  Pennsylvania, USA   \n",
       "764040676354908161  Fri Aug 12 10:07:47 +0000 2016  Port St Lucie, FL   \n",
       "\n",
       "                          country  xcoordinate  ycoordinate  \\\n",
       "764039975583227904  United States   -85.140797    42.232049   \n",
       "764040054427619328  United States   -90.502744    41.475836   \n",
       "764040268794384388  United States   -82.239066    29.600496   \n",
       "764040661448491008  United States   -74.689517    39.719801   \n",
       "764040676354908161  United States   -80.233079    27.205690   \n",
       "\n",
       "                                       link  \n",
       "764039975583227904                     None  \n",
       "764040054427619328                     None  \n",
       "764040268794384388                     None  \n",
       "764040661448491008                     None  \n",
       "764040676354908161  https://t.co/eR6GLDhj1M  "
      ]
     },
     "execution_count": 460,
     "metadata": {},
     "output_type": "execute_result"
    }
   ],
   "source": [
    "import re\n",
    "import numpy as np\n",
    "\n",
    "# extract the links (if any) to a seperate column\n",
    "\n",
    "def extract_link(text):\n",
    "    regex = r'https?://[^\\s<>\"]+|www\\.[^\\s<>\"]+'\n",
    "    match = re.search(regex, text)\n",
    "    if match:\n",
    "        return match.group()\n",
    "    return None\n",
    "\n",
    "tweets_SS['link'] = tweets_SS['text'].apply(lambda tweet: extract_link(tweet))\n",
    "tweets_SS.head(5)"
   ]
  },
  {
   "cell_type": "code",
   "execution_count": 461,
   "metadata": {},
   "outputs": [
    {
     "name": "stderr",
     "output_type": "stream",
     "text": [
      "/Users/d/anaconda3/lib/python3.7/site-packages/ipykernel_launcher.py:3: SettingWithCopyWarning: \n",
      "A value is trying to be set on a copy of a slice from a DataFrame.\n",
      "Try using .loc[row_indexer,col_indexer] = value instead\n",
      "\n",
      "See the caveats in the documentation: http://pandas.pydata.org/pandas-docs/stable/indexing.html#indexing-view-versus-copy\n",
      "  This is separate from the ipykernel package so we can avoid doing imports until\n"
     ]
    }
   ],
   "source": [
    "# Remove the links from the text for better sentiment analysis\n",
    "\n",
    "tweets_SS['text'] = tweets_SS['text'].str.replace('http\\S+|www.\\S+', '', case=False)"
   ]
  },
  {
   "cell_type": "code",
   "execution_count": null,
   "metadata": {},
   "outputs": [],
   "source": [
    "#tweets_SS.to_csv('tweets_data_swinged_states.csv')"
   ]
  },
  {
   "cell_type": "code",
   "execution_count": null,
   "metadata": {},
   "outputs": [],
   "source": []
  },
  {
   "cell_type": "code",
   "execution_count": null,
   "metadata": {},
   "outputs": [],
   "source": []
  },
  {
   "cell_type": "code",
   "execution_count": null,
   "metadata": {},
   "outputs": [],
   "source": []
  },
  {
   "cell_type": "code",
   "execution_count": null,
   "metadata": {},
   "outputs": [],
   "source": []
  },
  {
   "cell_type": "code",
   "execution_count": null,
   "metadata": {},
   "outputs": [],
   "source": []
  },
  {
   "cell_type": "code",
   "execution_count": null,
   "metadata": {},
   "outputs": [],
   "source": []
  },
  {
   "cell_type": "code",
   "execution_count": null,
   "metadata": {},
   "outputs": [],
   "source": [
    "\n"
   ]
  },
  {
   "cell_type": "code",
   "execution_count": null,
   "metadata": {},
   "outputs": [],
   "source": []
  },
  {
   "cell_type": "code",
   "execution_count": null,
   "metadata": {},
   "outputs": [],
   "source": []
  }
 ],
 "metadata": {
  "kernelspec": {
   "display_name": "Python 3",
   "language": "python",
   "name": "python3"
  },
  "language_info": {
   "codemirror_mode": {
    "name": "ipython",
    "version": 3
   },
   "file_extension": ".py",
   "mimetype": "text/x-python",
   "name": "python",
   "nbconvert_exporter": "python",
   "pygments_lexer": "ipython3",
   "version": "3.7.1"
  }
 },
 "nbformat": 4,
 "nbformat_minor": 2
}
