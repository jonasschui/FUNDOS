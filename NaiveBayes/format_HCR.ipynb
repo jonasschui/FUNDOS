{
 "cells": [
  {
   "cell_type": "code",
   "execution_count": 36,
   "metadata": {},
   "outputs": [],
   "source": [
    "import pandas as pd"
   ]
  },
  {
   "cell_type": "code",
   "execution_count": 40,
   "metadata": {},
   "outputs": [
    {
     "name": "stderr",
     "output_type": "stream",
     "text": [
      "C:\\Users\\jonas schuitemaker\\Anaconda3\\lib\\site-packages\\ipykernel_launcher.py:1: FutureWarning: from_csv is deprecated. Please use read_csv(...) instead. Note that some of the default arguments are different, so please refer to the documentation for from_csv when changing your function calls\n",
      "  \"\"\"Entry point for launching an IPython kernel.\n"
     ]
    }
   ],
   "source": [
    "# import the training data containing 839 tweets\n",
    "df = pd.DataFrame.from_csv(\"data/HCR/train/orig/hcr-train.csv\")"
   ]
  },
  {
   "cell_type": "code",
   "execution_count": 41,
   "metadata": {},
   "outputs": [
    {
     "data": {
      "text/html": [
       "<div>\n",
       "<style scoped>\n",
       "    .dataframe tbody tr th:only-of-type {\n",
       "        vertical-align: middle;\n",
       "    }\n",
       "\n",
       "    .dataframe tbody tr th {\n",
       "        vertical-align: top;\n",
       "    }\n",
       "\n",
       "    .dataframe thead th {\n",
       "        text-align: right;\n",
       "    }\n",
       "</style>\n",
       "<table border=\"1\" class=\"dataframe\">\n",
       "  <thead>\n",
       "    <tr style=\"text-align: right;\">\n",
       "      <th></th>\n",
       "      <th>user id</th>\n",
       "      <th>username</th>\n",
       "      <th>content</th>\n",
       "      <th>sentiment</th>\n",
       "      <th>target</th>\n",
       "      <th>annotator id</th>\n",
       "      <th>comment</th>\n",
       "      <th>dispute</th>\n",
       "    </tr>\n",
       "    <tr>\n",
       "      <th>tweet id</th>\n",
       "      <th></th>\n",
       "      <th></th>\n",
       "      <th></th>\n",
       "      <th></th>\n",
       "      <th></th>\n",
       "      <th></th>\n",
       "      <th></th>\n",
       "      <th></th>\n",
       "    </tr>\n",
       "  </thead>\n",
       "  <tbody>\n",
       "    <tr>\n",
       "      <th>10237553563</th>\n",
       "      <td>69128478</td>\n",
       "      <td>NaN</td>\n",
       "      <td>RT @angelsmomaw: #HCR is unwanted because it w...</td>\n",
       "      <td>negative</td>\n",
       "      <td>hcr</td>\n",
       "      <td>aluckhardt</td>\n",
       "      <td>NaN</td>\n",
       "      <td>NaN</td>\n",
       "    </tr>\n",
       "    <tr>\n",
       "      <th>10239984258</th>\n",
       "      <td>7713202</td>\n",
       "      <td>GOPLeader</td>\n",
       "      <td>RT @WMRepublicans President's Remarks Yesterda...</td>\n",
       "      <td>negative</td>\n",
       "      <td>hcr</td>\n",
       "      <td>aluckhardt</td>\n",
       "      <td>NaN</td>\n",
       "      <td>NaN</td>\n",
       "    </tr>\n",
       "    <tr>\n",
       "      <th>10240791063</th>\n",
       "      <td>34927577</td>\n",
       "      <td>cnsnews_com</td>\n",
       "      <td>RT @johnboehner: Pelosi on #HCR: ''We have to ...</td>\n",
       "      <td>negative</td>\n",
       "      <td>dems</td>\n",
       "      <td>aluckhardt</td>\n",
       "      <td>NaN</td>\n",
       "      <td>NaN</td>\n",
       "    </tr>\n",
       "    <tr>\n",
       "      <th>10253203734</th>\n",
       "      <td>16930489</td>\n",
       "      <td>ExJon</td>\n",
       "      <td>RT @vermontaigne Cancer patient died after 58,...</td>\n",
       "      <td>negative</td>\n",
       "      <td>hcr</td>\n",
       "      <td>aluckhardt</td>\n",
       "      <td>Factual, but wait times were a prominent criti...</td>\n",
       "      <td>NaN</td>\n",
       "    </tr>\n",
       "    <tr>\n",
       "      <th>10255459398</th>\n",
       "      <td>15350894</td>\n",
       "      <td>LJSearles</td>\n",
       "      <td>RT @HealthReformNow: As the President said to ...</td>\n",
       "      <td>negative</td>\n",
       "      <td>gop</td>\n",
       "      <td>aluckhardt</td>\n",
       "      <td>Also positive for hcr.</td>\n",
       "      <td>NaN</td>\n",
       "    </tr>\n",
       "  </tbody>\n",
       "</table>\n",
       "</div>"
      ],
      "text/plain": [
       "              user id     username  \\\n",
       "tweet id                             \n",
       "10237553563  69128478          NaN   \n",
       "10239984258   7713202    GOPLeader   \n",
       "10240791063  34927577  cnsnews_com   \n",
       "10253203734  16930489        ExJon   \n",
       "10255459398  15350894    LJSearles   \n",
       "\n",
       "                                                       content  sentiment  \\\n",
       "tweet id                                                                    \n",
       "10237553563  RT @angelsmomaw: #HCR is unwanted because it w...   negative   \n",
       "10239984258  RT @WMRepublicans President's Remarks Yesterda...   negative   \n",
       "10240791063  RT @johnboehner: Pelosi on #HCR: ''We have to ...   negative   \n",
       "10253203734  RT @vermontaigne Cancer patient died after 58,...   negative   \n",
       "10255459398  RT @HealthReformNow: As the President said to ...   negative   \n",
       "\n",
       "            target annotator id  \\\n",
       "tweet id                          \n",
       "10237553563    hcr   aluckhardt   \n",
       "10239984258    hcr   aluckhardt   \n",
       "10240791063   dems   aluckhardt   \n",
       "10253203734    hcr   aluckhardt   \n",
       "10255459398    gop   aluckhardt   \n",
       "\n",
       "                                                       comment dispute  \n",
       "tweet id                                                                \n",
       "10237553563                                                NaN     NaN  \n",
       "10239984258                                                NaN     NaN  \n",
       "10240791063                                                NaN     NaN  \n",
       "10253203734  Factual, but wait times were a prominent criti...     NaN  \n",
       "10255459398                             Also positive for hcr.     NaN  "
      ]
     },
     "execution_count": 41,
     "metadata": {},
     "output_type": "execute_result"
    }
   ],
   "source": [
    "df.head()"
   ]
  },
  {
   "cell_type": "code",
   "execution_count": 45,
   "metadata": {},
   "outputs": [],
   "source": [
    "df = df.drop(['user id', 'username', 'target', 'annotator id', 'comment', 'dispute'], axis=1)"
   ]
  },
  {
   "cell_type": "code",
   "execution_count": 50,
   "metadata": {},
   "outputs": [],
   "source": [
    "df = df.reset_index(drop=True)\n",
    "df = df.dropna()"
   ]
  },
  {
   "cell_type": "code",
   "execution_count": 53,
   "metadata": {},
   "outputs": [],
   "source": [
    "# export reformatted data to use for classyfier\n",
    "df.to_csv(\"data/HCR/train/orig/HCR_formatted_train.csv\")"
   ]
  },
  {
   "cell_type": "code",
   "execution_count": null,
   "metadata": {},
   "outputs": [],
   "source": []
  },
  {
   "cell_type": "code",
   "execution_count": null,
   "metadata": {},
   "outputs": [],
   "source": []
  }
 ],
 "metadata": {
  "kernelspec": {
   "display_name": "Python 3",
   "language": "python",
   "name": "python3"
  },
  "language_info": {
   "codemirror_mode": {
    "name": "ipython",
    "version": 3
   },
   "file_extension": ".py",
   "mimetype": "text/x-python",
   "name": "python",
   "nbconvert_exporter": "python",
   "pygments_lexer": "ipython3",
   "version": "3.6.5"
  }
 },
 "nbformat": 4,
 "nbformat_minor": 2
}
